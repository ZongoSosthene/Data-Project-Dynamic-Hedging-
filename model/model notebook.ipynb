{
  "nbformat": 4,
  "nbformat_minor": 0,
  "metadata": {
    "colab": {
      "provenance": [],
      "gpuType": "T4"
    },
    "kernelspec": {
      "name": "python3",
      "display_name": "Python 3"
    },
    "language_info": {
      "name": "python"
    },
    "accelerator": "GPU"
  },
  "cells": [
    {
      "cell_type": "markdown",
      "source": [
        "# Narratif du Système de Couverture par Apprentissage par Renforcement\n",
        "\n",
        "## Contexte et Environnement\n",
        "\n",
        "Dans ce projet, l'environnement financier est simulé à l'aide de la fonction **`monte_carlo_paths`**.  \n",
        "Cette fonction génère des trajectoires de prix d'un actif sous-jacent sur une période donnée, simulant l'évolution du marché.  \n",
        "Chaque trajectoire représente une séquence d'états du marché, et l'ensemble de ces trajectoires constitue l'environnement dans lequel évolue l'agent.\n",
        "\n",
        "## Représentation de l'État\n",
        "\n",
        "À chaque instant, l'état du marché est représenté par un vecteur de **7 caractéristiques** essentielles, qui sont construites et agrégées dans l'entrée du modèle. Ces caractéristiques incluent :\n",
        "\n",
        "- **Sₜ** : Le prix actuel du sous-jacent.\n",
        "- **T_remaining** : Le temps restant jusqu'à l'échéance.\n",
        "- **delta_prev** : La position de couverture (delta) prise à l'instant précédent.\n",
        "- **cash_prev** : La trésorerie disponible à l'instant précédent.\n",
        "- **call_price_t_minus** : Le prix du call calculé via Black-Scholes à l'instant précédent.\n",
        "- **call_price_t** : Le prix du call à l'instant courant.\n",
        "- **simulation_summary** : Un résumé de la simulation (par exemple, Sₜ * exp(r * T_remaining)).\n",
        "\n",
        "Ces informations forment le vecteur d'état qui est transmis au modèle LSTM.\n",
        "\n",
        "## L'Agent et ses Actions\n",
        "\n",
        "L'agent, implémenté dans la classe **`Agent`** (un modèle LSTM enregistré comme sérialisable par TensorFlow), agit dans cet espace d'états.  \n",
        "À chaque instant, il :\n",
        "\n",
        "1. **Observe l'état** du marché représenté par le vecteur de 7 caractéristiques.\n",
        "2. **Décide d'une action** en choisissant une nouvelle valeur de delta (la position de couverture) afin d'ajuster son portefeuille.\n",
        "\n",
        "Ces décisions sont prises de manière séquentielle et sont représentées par une suite de deltas (δ₁, δ₂, …, δ_T).\n",
        "\n",
        "## Fonction de Récompense et Objectif\n",
        "\n",
        "La fonction de récompense, qui guide l'apprentissage de l'agent, est conçue pour :\n",
        "- **Minimiser le risque** en réduisant le **CVaR** (Conditional Value at Risk) – une mesure qui capture la moyenne des pires pertes.\n",
        "- **Minimiser la variance** pour stabiliser les résultats.\n",
        "- **Maximiser la skewness** afin d'encourager des gains potentiels élevés dans les scénarios favorables.\n",
        "\n",
        "L'objectif global (fonction de perte) est donc défini comme :\n",
        "\n",
        "\n",
        "\n",
        "* `loss = cvar - lambda_skew * skew + lambda_var * var`\n",
        "\n",
        "\n",
        "où :\n",
        "\n",
        "* `cvar` : Le CVaR (Conditional Value at Risk) calculé sur le PnL de la stratégie.\n",
        "* `skew` : La skewness (asymétrie) du PnL.\n",
        "* `var` : La variance du PnL.\n",
        "* `lambda_skew` et `lambda_var` : Des coefficients qui pondèrent respectivement l'importance de la skewness et de la variance.\n",
        "\n",
        "## Conclusion\n",
        "\n",
        "Ainsi, l'agent se déplace dans un espace d'états représentant l'évolution du marché et prend des décisions de couverture pour maximiser sa récompense.\n",
        "\n",
        "En optimisant la fonction de perte qui minimise le risque (CVaR et variance) tout en maximisant les opportunités de gains (skewness), l'agent apprend à adapter sa stratégie pour faire face à l'incertitude du marché."
      ],
      "metadata": {
        "id": "PDPQ9UDQ4Uq2"
      }
    },
    {
      "cell_type": "code",
      "source": [
        "!pip install fastapi==0.115.10 uvicorn==0.34.0 joblib==1.4.2 pandas==2.2.3 numpy==1.26.4 prometheus-client==0.21.1 httpx==0.25.2 pytest==7.4.3 keras==3.9.0 tensorflow==2.16.1 streamlit==1.43.0 yfinance matplotlib seaborn tqdm scipy\n"
      ],
      "metadata": {
        "colab": {
          "base_uri": "https://localhost:8080/",
          "height": 1000
        },
        "id": "qltPeKql4fxx",
        "outputId": "58eeb320-dd93-4ef8-bd40-aba8ac38d076"
      },
      "execution_count": 3,
      "outputs": [
        {
          "output_type": "stream",
          "name": "stdout",
          "text": [
            "Collecting fastapi==0.115.10\n",
            "  Downloading fastapi-0.115.10-py3-none-any.whl.metadata (27 kB)\n",
            "Collecting uvicorn==0.34.0\n",
            "  Downloading uvicorn-0.34.0-py3-none-any.whl.metadata (6.5 kB)\n",
            "Requirement already satisfied: joblib==1.4.2 in /usr/local/lib/python3.11/dist-packages (1.4.2)\n",
            "Collecting pandas==2.2.3\n",
            "  Downloading pandas-2.2.3-cp311-cp311-manylinux_2_17_x86_64.manylinux2014_x86_64.whl.metadata (89 kB)\n",
            "\u001b[2K     \u001b[90m━━━━━━━━━━━━━━━━━━━━━━━━━━━━━━━━━━━━━━━━\u001b[0m \u001b[32m89.9/89.9 kB\u001b[0m \u001b[31m6.9 MB/s\u001b[0m eta \u001b[36m0:00:00\u001b[0m\n",
            "\u001b[?25hRequirement already satisfied: numpy==1.26.4 in /usr/local/lib/python3.11/dist-packages (1.26.4)\n",
            "Requirement already satisfied: prometheus-client==0.21.1 in /usr/local/lib/python3.11/dist-packages (0.21.1)\n",
            "Collecting httpx==0.25.2\n",
            "  Downloading httpx-0.25.2-py3-none-any.whl.metadata (6.9 kB)\n",
            "Collecting pytest==7.4.3\n",
            "  Downloading pytest-7.4.3-py3-none-any.whl.metadata (7.9 kB)\n",
            "Collecting keras==3.9.0\n",
            "  Downloading keras-3.9.0-py3-none-any.whl.metadata (6.1 kB)\n",
            "Collecting tensorflow==2.16.1\n",
            "  Downloading tensorflow-2.16.1-cp311-cp311-manylinux_2_17_x86_64.manylinux2014_x86_64.whl.metadata (4.3 kB)\n",
            "Collecting streamlit==1.43.0\n",
            "  Downloading streamlit-1.43.0-py2.py3-none-any.whl.metadata (8.9 kB)\n",
            "Requirement already satisfied: yfinance in /usr/local/lib/python3.11/dist-packages (0.2.54)\n",
            "Requirement already satisfied: matplotlib in /usr/local/lib/python3.11/dist-packages (3.10.0)\n",
            "Requirement already satisfied: seaborn in /usr/local/lib/python3.11/dist-packages (0.13.2)\n",
            "Requirement already satisfied: tqdm in /usr/local/lib/python3.11/dist-packages (4.67.1)\n",
            "Requirement already satisfied: scipy in /usr/local/lib/python3.11/dist-packages (1.13.1)\n",
            "Collecting starlette<0.47.0,>=0.40.0 (from fastapi==0.115.10)\n",
            "  Downloading starlette-0.46.1-py3-none-any.whl.metadata (6.2 kB)\n",
            "Requirement already satisfied: pydantic!=1.8,!=1.8.1,!=2.0.0,!=2.0.1,!=2.1.0,<3.0.0,>=1.7.4 in /usr/local/lib/python3.11/dist-packages (from fastapi==0.115.10) (2.10.6)\n",
            "Requirement already satisfied: typing-extensions>=4.8.0 in /usr/local/lib/python3.11/dist-packages (from fastapi==0.115.10) (4.12.2)\n",
            "Requirement already satisfied: click>=7.0 in /usr/local/lib/python3.11/dist-packages (from uvicorn==0.34.0) (8.1.8)\n",
            "Requirement already satisfied: h11>=0.8 in /usr/local/lib/python3.11/dist-packages (from uvicorn==0.34.0) (0.14.0)\n",
            "Requirement already satisfied: python-dateutil>=2.8.2 in /usr/local/lib/python3.11/dist-packages (from pandas==2.2.3) (2.8.2)\n",
            "Requirement already satisfied: pytz>=2020.1 in /usr/local/lib/python3.11/dist-packages (from pandas==2.2.3) (2025.1)\n",
            "Requirement already satisfied: tzdata>=2022.7 in /usr/local/lib/python3.11/dist-packages (from pandas==2.2.3) (2025.1)\n",
            "Requirement already satisfied: anyio in /usr/local/lib/python3.11/dist-packages (from httpx==0.25.2) (3.7.1)\n",
            "Requirement already satisfied: certifi in /usr/local/lib/python3.11/dist-packages (from httpx==0.25.2) (2025.1.31)\n",
            "Requirement already satisfied: httpcore==1.* in /usr/local/lib/python3.11/dist-packages (from httpx==0.25.2) (1.0.7)\n",
            "Requirement already satisfied: idna in /usr/local/lib/python3.11/dist-packages (from httpx==0.25.2) (3.10)\n",
            "Requirement already satisfied: sniffio in /usr/local/lib/python3.11/dist-packages (from httpx==0.25.2) (1.3.1)\n",
            "Requirement already satisfied: iniconfig in /usr/local/lib/python3.11/dist-packages (from pytest==7.4.3) (2.0.0)\n",
            "Requirement already satisfied: packaging in /usr/local/lib/python3.11/dist-packages (from pytest==7.4.3) (24.2)\n",
            "Requirement already satisfied: pluggy<2.0,>=0.12 in /usr/local/lib/python3.11/dist-packages (from pytest==7.4.3) (1.5.0)\n",
            "Requirement already satisfied: absl-py in /usr/local/lib/python3.11/dist-packages (from keras==3.9.0) (1.4.0)\n",
            "Requirement already satisfied: rich in /usr/local/lib/python3.11/dist-packages (from keras==3.9.0) (13.9.4)\n",
            "Requirement already satisfied: namex in /usr/local/lib/python3.11/dist-packages (from keras==3.9.0) (0.0.8)\n",
            "Requirement already satisfied: h5py in /usr/local/lib/python3.11/dist-packages (from keras==3.9.0) (3.12.1)\n",
            "Requirement already satisfied: optree in /usr/local/lib/python3.11/dist-packages (from keras==3.9.0) (0.14.1)\n",
            "Requirement already satisfied: ml-dtypes in /usr/local/lib/python3.11/dist-packages (from keras==3.9.0) (0.4.1)\n",
            "Requirement already satisfied: astunparse>=1.6.0 in /usr/local/lib/python3.11/dist-packages (from tensorflow==2.16.1) (1.6.3)\n",
            "Requirement already satisfied: flatbuffers>=23.5.26 in /usr/local/lib/python3.11/dist-packages (from tensorflow==2.16.1) (25.2.10)\n",
            "Requirement already satisfied: gast!=0.5.0,!=0.5.1,!=0.5.2,>=0.2.1 in /usr/local/lib/python3.11/dist-packages (from tensorflow==2.16.1) (0.6.0)\n",
            "Requirement already satisfied: google-pasta>=0.1.1 in /usr/local/lib/python3.11/dist-packages (from tensorflow==2.16.1) (0.2.0)\n",
            "Requirement already satisfied: libclang>=13.0.0 in /usr/local/lib/python3.11/dist-packages (from tensorflow==2.16.1) (18.1.1)\n",
            "Collecting ml-dtypes (from keras==3.9.0)\n",
            "  Downloading ml_dtypes-0.3.2-cp311-cp311-manylinux_2_17_x86_64.manylinux2014_x86_64.whl.metadata (20 kB)\n",
            "Requirement already satisfied: opt-einsum>=2.3.2 in /usr/local/lib/python3.11/dist-packages (from tensorflow==2.16.1) (3.4.0)\n",
            "Requirement already satisfied: protobuf!=4.21.0,!=4.21.1,!=4.21.2,!=4.21.3,!=4.21.4,!=4.21.5,<5.0.0dev,>=3.20.3 in /usr/local/lib/python3.11/dist-packages (from tensorflow==2.16.1) (4.25.6)\n",
            "Requirement already satisfied: requests<3,>=2.21.0 in /usr/local/lib/python3.11/dist-packages (from tensorflow==2.16.1) (2.32.3)\n",
            "Requirement already satisfied: setuptools in /usr/local/lib/python3.11/dist-packages (from tensorflow==2.16.1) (75.1.0)\n",
            "Requirement already satisfied: six>=1.12.0 in /usr/local/lib/python3.11/dist-packages (from tensorflow==2.16.1) (1.17.0)\n",
            "Requirement already satisfied: termcolor>=1.1.0 in /usr/local/lib/python3.11/dist-packages (from tensorflow==2.16.1) (2.5.0)\n",
            "Requirement already satisfied: wrapt>=1.11.0 in /usr/local/lib/python3.11/dist-packages (from tensorflow==2.16.1) (1.17.2)\n",
            "Requirement already satisfied: grpcio<2.0,>=1.24.3 in /usr/local/lib/python3.11/dist-packages (from tensorflow==2.16.1) (1.70.0)\n",
            "Collecting tensorboard<2.17,>=2.16 (from tensorflow==2.16.1)\n",
            "  Downloading tensorboard-2.16.2-py3-none-any.whl.metadata (1.6 kB)\n",
            "Requirement already satisfied: tensorflow-io-gcs-filesystem>=0.23.1 in /usr/local/lib/python3.11/dist-packages (from tensorflow==2.16.1) (0.37.1)\n",
            "Requirement already satisfied: altair<6,>=4.0 in /usr/local/lib/python3.11/dist-packages (from streamlit==1.43.0) (5.5.0)\n",
            "Requirement already satisfied: blinker<2,>=1.0.0 in /usr/local/lib/python3.11/dist-packages (from streamlit==1.43.0) (1.9.0)\n",
            "Requirement already satisfied: cachetools<6,>=4.0 in /usr/local/lib/python3.11/dist-packages (from streamlit==1.43.0) (5.5.2)\n",
            "Requirement already satisfied: pillow<12,>=7.1.0 in /usr/local/lib/python3.11/dist-packages (from streamlit==1.43.0) (11.1.0)\n",
            "Requirement already satisfied: pyarrow>=7.0 in /usr/local/lib/python3.11/dist-packages (from streamlit==1.43.0) (18.1.0)\n",
            "Requirement already satisfied: tenacity<10,>=8.1.0 in /usr/local/lib/python3.11/dist-packages (from streamlit==1.43.0) (9.0.0)\n",
            "Requirement already satisfied: toml<2,>=0.10.1 in /usr/local/lib/python3.11/dist-packages (from streamlit==1.43.0) (0.10.2)\n",
            "Collecting watchdog<7,>=2.1.5 (from streamlit==1.43.0)\n",
            "  Downloading watchdog-6.0.0-py3-none-manylinux2014_x86_64.whl.metadata (44 kB)\n",
            "\u001b[2K     \u001b[90m━━━━━━━━━━━━━━━━━━━━━━━━━━━━━━━━━━━━━━━━\u001b[0m \u001b[32m44.3/44.3 kB\u001b[0m \u001b[31m3.3 MB/s\u001b[0m eta \u001b[36m0:00:00\u001b[0m\n",
            "\u001b[?25hRequirement already satisfied: gitpython!=3.1.19,<4,>=3.0.7 in /usr/local/lib/python3.11/dist-packages (from streamlit==1.43.0) (3.1.44)\n",
            "Collecting pydeck<1,>=0.8.0b4 (from streamlit==1.43.0)\n",
            "  Downloading pydeck-0.9.1-py2.py3-none-any.whl.metadata (4.1 kB)\n",
            "Requirement already satisfied: tornado<7,>=6.0.3 in /usr/local/lib/python3.11/dist-packages (from streamlit==1.43.0) (6.4.2)\n",
            "Requirement already satisfied: multitasking>=0.0.7 in /usr/local/lib/python3.11/dist-packages (from yfinance) (0.0.11)\n",
            "Requirement already satisfied: platformdirs>=2.0.0 in /usr/local/lib/python3.11/dist-packages (from yfinance) (4.3.6)\n",
            "Requirement already satisfied: frozendict>=2.3.4 in /usr/local/lib/python3.11/dist-packages (from yfinance) (2.4.6)\n",
            "Requirement already satisfied: peewee>=3.16.2 in /usr/local/lib/python3.11/dist-packages (from yfinance) (3.17.9)\n",
            "Requirement already satisfied: beautifulsoup4>=4.11.1 in /usr/local/lib/python3.11/dist-packages (from yfinance) (4.13.3)\n",
            "Requirement already satisfied: contourpy>=1.0.1 in /usr/local/lib/python3.11/dist-packages (from matplotlib) (1.3.1)\n",
            "Requirement already satisfied: cycler>=0.10 in /usr/local/lib/python3.11/dist-packages (from matplotlib) (0.12.1)\n",
            "Requirement already satisfied: fonttools>=4.22.0 in /usr/local/lib/python3.11/dist-packages (from matplotlib) (4.56.0)\n",
            "Requirement already satisfied: kiwisolver>=1.3.1 in /usr/local/lib/python3.11/dist-packages (from matplotlib) (1.4.8)\n",
            "Requirement already satisfied: pyparsing>=2.3.1 in /usr/local/lib/python3.11/dist-packages (from matplotlib) (3.2.1)\n",
            "Requirement already satisfied: jinja2 in /usr/local/lib/python3.11/dist-packages (from altair<6,>=4.0->streamlit==1.43.0) (3.1.5)\n",
            "Requirement already satisfied: jsonschema>=3.0 in /usr/local/lib/python3.11/dist-packages (from altair<6,>=4.0->streamlit==1.43.0) (4.23.0)\n",
            "Requirement already satisfied: narwhals>=1.14.2 in /usr/local/lib/python3.11/dist-packages (from altair<6,>=4.0->streamlit==1.43.0) (1.29.0)\n",
            "Requirement already satisfied: wheel<1.0,>=0.23.0 in /usr/local/lib/python3.11/dist-packages (from astunparse>=1.6.0->tensorflow==2.16.1) (0.45.1)\n",
            "Requirement already satisfied: soupsieve>1.2 in /usr/local/lib/python3.11/dist-packages (from beautifulsoup4>=4.11.1->yfinance) (2.6)\n",
            "Requirement already satisfied: gitdb<5,>=4.0.1 in /usr/local/lib/python3.11/dist-packages (from gitpython!=3.1.19,<4,>=3.0.7->streamlit==1.43.0) (4.0.12)\n",
            "Requirement already satisfied: annotated-types>=0.6.0 in /usr/local/lib/python3.11/dist-packages (from pydantic!=1.8,!=1.8.1,!=2.0.0,!=2.0.1,!=2.1.0,<3.0.0,>=1.7.4->fastapi==0.115.10) (0.7.0)\n",
            "Requirement already satisfied: pydantic-core==2.27.2 in /usr/local/lib/python3.11/dist-packages (from pydantic!=1.8,!=1.8.1,!=2.0.0,!=2.0.1,!=2.1.0,<3.0.0,>=1.7.4->fastapi==0.115.10) (2.27.2)\n",
            "Requirement already satisfied: charset-normalizer<4,>=2 in /usr/local/lib/python3.11/dist-packages (from requests<3,>=2.21.0->tensorflow==2.16.1) (3.4.1)\n",
            "Requirement already satisfied: urllib3<3,>=1.21.1 in /usr/local/lib/python3.11/dist-packages (from requests<3,>=2.21.0->tensorflow==2.16.1) (2.3.0)\n",
            "Requirement already satisfied: markdown>=2.6.8 in /usr/local/lib/python3.11/dist-packages (from tensorboard<2.17,>=2.16->tensorflow==2.16.1) (3.7)\n",
            "Requirement already satisfied: tensorboard-data-server<0.8.0,>=0.7.0 in /usr/local/lib/python3.11/dist-packages (from tensorboard<2.17,>=2.16->tensorflow==2.16.1) (0.7.2)\n",
            "Requirement already satisfied: werkzeug>=1.0.1 in /usr/local/lib/python3.11/dist-packages (from tensorboard<2.17,>=2.16->tensorflow==2.16.1) (3.1.3)\n",
            "Requirement already satisfied: markdown-it-py>=2.2.0 in /usr/local/lib/python3.11/dist-packages (from rich->keras==3.9.0) (3.0.0)\n",
            "Requirement already satisfied: pygments<3.0.0,>=2.13.0 in /usr/local/lib/python3.11/dist-packages (from rich->keras==3.9.0) (2.18.0)\n",
            "Requirement already satisfied: smmap<6,>=3.0.1 in /usr/local/lib/python3.11/dist-packages (from gitdb<5,>=4.0.1->gitpython!=3.1.19,<4,>=3.0.7->streamlit==1.43.0) (5.0.2)\n",
            "Requirement already satisfied: MarkupSafe>=2.0 in /usr/local/lib/python3.11/dist-packages (from jinja2->altair<6,>=4.0->streamlit==1.43.0) (3.0.2)\n",
            "Requirement already satisfied: attrs>=22.2.0 in /usr/local/lib/python3.11/dist-packages (from jsonschema>=3.0->altair<6,>=4.0->streamlit==1.43.0) (25.1.0)\n",
            "Requirement already satisfied: jsonschema-specifications>=2023.03.6 in /usr/local/lib/python3.11/dist-packages (from jsonschema>=3.0->altair<6,>=4.0->streamlit==1.43.0) (2024.10.1)\n",
            "Requirement already satisfied: referencing>=0.28.4 in /usr/local/lib/python3.11/dist-packages (from jsonschema>=3.0->altair<6,>=4.0->streamlit==1.43.0) (0.36.2)\n",
            "Requirement already satisfied: rpds-py>=0.7.1 in /usr/local/lib/python3.11/dist-packages (from jsonschema>=3.0->altair<6,>=4.0->streamlit==1.43.0) (0.23.1)\n",
            "Requirement already satisfied: mdurl~=0.1 in /usr/local/lib/python3.11/dist-packages (from markdown-it-py>=2.2.0->rich->keras==3.9.0) (0.1.2)\n",
            "Downloading fastapi-0.115.10-py3-none-any.whl (94 kB)\n",
            "\u001b[2K   \u001b[90m━━━━━━━━━━━━━━━━━━━━━━━━━━━━━━━━━━━━━━━━\u001b[0m \u001b[32m94.9/94.9 kB\u001b[0m \u001b[31m7.1 MB/s\u001b[0m eta \u001b[36m0:00:00\u001b[0m\n",
            "\u001b[?25hDownloading uvicorn-0.34.0-py3-none-any.whl (62 kB)\n",
            "\u001b[2K   \u001b[90m━━━━━━━━━━━━━━━━━━━━━━━━━━━━━━━━━━━━━━━━\u001b[0m \u001b[32m62.3/62.3 kB\u001b[0m \u001b[31m5.3 MB/s\u001b[0m eta \u001b[36m0:00:00\u001b[0m\n",
            "\u001b[?25hDownloading pandas-2.2.3-cp311-cp311-manylinux_2_17_x86_64.manylinux2014_x86_64.whl (13.1 MB)\n",
            "\u001b[2K   \u001b[90m━━━━━━━━━━━━━━━━━━━━━━━━━━━━━━━━━━━━━━━━\u001b[0m \u001b[32m13.1/13.1 MB\u001b[0m \u001b[31m106.3 MB/s\u001b[0m eta \u001b[36m0:00:00\u001b[0m\n",
            "\u001b[?25hDownloading httpx-0.25.2-py3-none-any.whl (74 kB)\n",
            "\u001b[2K   \u001b[90m━━━━━━━━━━━━━━━━━━━━━━━━━━━━━━━━━━━━━━━━\u001b[0m \u001b[32m75.0/75.0 kB\u001b[0m \u001b[31m5.7 MB/s\u001b[0m eta \u001b[36m0:00:00\u001b[0m\n",
            "\u001b[?25hDownloading pytest-7.4.3-py3-none-any.whl (325 kB)\n",
            "\u001b[2K   \u001b[90m━━━━━━━━━━━━━━━━━━━━━━━━━━━━━━━━━━━━━━━━\u001b[0m \u001b[32m325.1/325.1 kB\u001b[0m \u001b[31m25.8 MB/s\u001b[0m eta \u001b[36m0:00:00\u001b[0m\n",
            "\u001b[?25hDownloading keras-3.9.0-py3-none-any.whl (1.3 MB)\n",
            "\u001b[2K   \u001b[90m━━━━━━━━━━━━━━━━━━━━━━━━━━━━━━━━━━━━━━━━\u001b[0m \u001b[32m1.3/1.3 MB\u001b[0m \u001b[31m66.7 MB/s\u001b[0m eta \u001b[36m0:00:00\u001b[0m\n",
            "\u001b[?25hDownloading tensorflow-2.16.1-cp311-cp311-manylinux_2_17_x86_64.manylinux2014_x86_64.whl (589.8 MB)\n",
            "\u001b[2K   \u001b[90m━━━━━━━━━━━━━━━━━━━━━━━━━━━━━━━━━━━━━━━━\u001b[0m \u001b[32m589.8/589.8 MB\u001b[0m \u001b[31m2.1 MB/s\u001b[0m eta \u001b[36m0:00:00\u001b[0m\n",
            "\u001b[?25hDownloading streamlit-1.43.0-py2.py3-none-any.whl (9.7 MB)\n",
            "\u001b[2K   \u001b[90m━━━━━━━━━━━━━━━━━━━━━━━━━━━━━━━━━━━━━━━━\u001b[0m \u001b[32m9.7/9.7 MB\u001b[0m \u001b[31m33.8 MB/s\u001b[0m eta \u001b[36m0:00:00\u001b[0m\n",
            "\u001b[?25hDownloading ml_dtypes-0.3.2-cp311-cp311-manylinux_2_17_x86_64.manylinux2014_x86_64.whl (2.2 MB)\n",
            "\u001b[2K   \u001b[90m━━━━━━━━━━━━━━━━━━━━━━━━━━━━━━━━━━━━━━━━\u001b[0m \u001b[32m2.2/2.2 MB\u001b[0m \u001b[31m64.6 MB/s\u001b[0m eta \u001b[36m0:00:00\u001b[0m\n",
            "\u001b[?25hDownloading pydeck-0.9.1-py2.py3-none-any.whl (6.9 MB)\n",
            "\u001b[2K   \u001b[90m━━━━━━━━━━━━━━━━━━━━━━━━━━━━━━━━━━━━━━━━\u001b[0m \u001b[32m6.9/6.9 MB\u001b[0m \u001b[31m86.2 MB/s\u001b[0m eta \u001b[36m0:00:00\u001b[0m\n",
            "\u001b[?25hDownloading starlette-0.46.1-py3-none-any.whl (71 kB)\n",
            "\u001b[2K   \u001b[90m━━━━━━━━━━━━━━━━━━━━━━━━━━━━━━━━━━━━━━━━\u001b[0m \u001b[32m72.0/72.0 kB\u001b[0m \u001b[31m6.2 MB/s\u001b[0m eta \u001b[36m0:00:00\u001b[0m\n",
            "\u001b[?25hDownloading tensorboard-2.16.2-py3-none-any.whl (5.5 MB)\n",
            "\u001b[2K   \u001b[90m━━━━━━━━━━━━━━━━━━━━━━━━━━━━━━━━━━━━━━━━\u001b[0m \u001b[32m5.5/5.5 MB\u001b[0m \u001b[31m78.4 MB/s\u001b[0m eta \u001b[36m0:00:00\u001b[0m\n",
            "\u001b[?25hDownloading watchdog-6.0.0-py3-none-manylinux2014_x86_64.whl (79 kB)\n",
            "\u001b[2K   \u001b[90m━━━━━━━━━━━━━━━━━━━━━━━━━━━━━━━━━━━━━━━━\u001b[0m \u001b[32m79.1/79.1 kB\u001b[0m \u001b[31m6.5 MB/s\u001b[0m eta \u001b[36m0:00:00\u001b[0m\n",
            "\u001b[?25hInstalling collected packages: watchdog, uvicorn, pytest, ml-dtypes, tensorboard, starlette, pydeck, pandas, httpx, keras, fastapi, tensorflow, streamlit\n",
            "  Attempting uninstall: pytest\n",
            "    Found existing installation: pytest 8.3.5\n",
            "    Uninstalling pytest-8.3.5:\n",
            "      Successfully uninstalled pytest-8.3.5\n",
            "  Attempting uninstall: ml-dtypes\n",
            "    Found existing installation: ml-dtypes 0.4.1\n",
            "    Uninstalling ml-dtypes-0.4.1:\n",
            "      Successfully uninstalled ml-dtypes-0.4.1\n",
            "  Attempting uninstall: tensorboard\n",
            "    Found existing installation: tensorboard 2.18.0\n",
            "    Uninstalling tensorboard-2.18.0:\n",
            "      Successfully uninstalled tensorboard-2.18.0\n",
            "  Attempting uninstall: pandas\n",
            "    Found existing installation: pandas 2.2.2\n",
            "    Uninstalling pandas-2.2.2:\n",
            "      Successfully uninstalled pandas-2.2.2\n",
            "  Attempting uninstall: httpx\n",
            "    Found existing installation: httpx 0.28.1\n",
            "    Uninstalling httpx-0.28.1:\n",
            "      Successfully uninstalled httpx-0.28.1\n",
            "  Attempting uninstall: keras\n",
            "    Found existing installation: keras 3.8.0\n",
            "    Uninstalling keras-3.8.0:\n",
            "      Successfully uninstalled keras-3.8.0\n",
            "  Attempting uninstall: tensorflow\n",
            "    Found existing installation: tensorflow 2.18.0\n",
            "    Uninstalling tensorflow-2.18.0:\n",
            "      Successfully uninstalled tensorflow-2.18.0\n",
            "\u001b[31mERROR: pip's dependency resolver does not currently take into account all the packages that are installed. This behaviour is the source of the following dependency conflicts.\n",
            "google-colab 1.0.0 requires pandas==2.2.2, but you have pandas 2.2.3 which is incompatible.\n",
            "tf-keras 2.18.0 requires tensorflow<2.19,>=2.18, but you have tensorflow 2.16.1 which is incompatible.\n",
            "tensorflow-text 2.18.1 requires tensorflow<2.19,>=2.18.0, but you have tensorflow 2.16.1 which is incompatible.\u001b[0m\u001b[31m\n",
            "\u001b[0mSuccessfully installed fastapi-0.115.10 httpx-0.25.2 keras-3.9.0 ml-dtypes-0.3.2 pandas-2.2.3 pydeck-0.9.1 pytest-7.4.3 starlette-0.46.1 streamlit-1.43.0 tensorboard-2.16.2 tensorflow-2.16.1 uvicorn-0.34.0 watchdog-6.0.0\n"
          ]
        },
        {
          "output_type": "display_data",
          "data": {
            "application/vnd.colab-display-data+json": {
              "pip_warning": {
                "packages": [
                  "keras",
                  "ml_dtypes",
                  "tensorflow"
                ]
              },
              "id": "23ef171e00ba425ea9ff2827406b8564"
            }
          },
          "metadata": {}
        }
      ]
    },
    {
      "cell_type": "code",
      "execution_count": 2,
      "metadata": {
        "colab": {
          "base_uri": "https://localhost:8080/",
          "height": 1000
        },
        "id": "-gjL_8n023qa",
        "outputId": "ec204430-96a2-4f31-e892-f357836e45db"
      },
      "outputs": [
        {
          "output_type": "stream",
          "name": "stdout",
          "text": [
            "Drive already mounted at /content/drive; to attempt to forcibly remount, call drive.mount(\"/content/drive\", force_remount=True).\n",
            "Génération des paths...\n",
            "Début de l'entraînement...\n"
          ]
        },
        {
          "output_type": "stream",
          "name": "stderr",
          "text": [
            "Entraînement:   0%|          | 1/500 [00:04<37:03,  4.46s/it]"
          ]
        },
        {
          "output_type": "stream",
          "name": "stdout",
          "text": [
            "Epoch 0 | Loss: 7.4077 | CVaR: 8.0181\n"
          ]
        },
        {
          "output_type": "stream",
          "name": "stderr",
          "text": [
            "Entraînement:   2%|▏         | 11/500 [00:15<08:45,  1.08s/it]"
          ]
        },
        {
          "output_type": "stream",
          "name": "stdout",
          "text": [
            "Epoch 10 | Loss: 7.7531 | CVaR: 7.0289\n"
          ]
        },
        {
          "output_type": "stream",
          "name": "stderr",
          "text": [
            "Entraînement:   4%|▍         | 21/500 [00:26<08:26,  1.06s/it]"
          ]
        },
        {
          "output_type": "stream",
          "name": "stdout",
          "text": [
            "Epoch 20 | Loss: 6.6764 | CVaR: 6.1538\n"
          ]
        },
        {
          "output_type": "stream",
          "name": "stderr",
          "text": [
            "Entraînement:   6%|▌         | 31/500 [00:39<09:56,  1.27s/it]"
          ]
        },
        {
          "output_type": "stream",
          "name": "stdout",
          "text": [
            "Epoch 30 | Loss: 4.1245 | CVaR: 4.0077\n"
          ]
        },
        {
          "output_type": "stream",
          "name": "stderr",
          "text": [
            "Entraînement:   8%|▊         | 41/500 [00:50<09:05,  1.19s/it]"
          ]
        },
        {
          "output_type": "stream",
          "name": "stdout",
          "text": [
            "Epoch 40 | Loss: 4.1787 | CVaR: 3.9325\n"
          ]
        },
        {
          "output_type": "stream",
          "name": "stderr",
          "text": [
            "Entraînement:  10%|█         | 51/500 [01:03<08:42,  1.16s/it]"
          ]
        },
        {
          "output_type": "stream",
          "name": "stdout",
          "text": [
            "Epoch 50 | Loss: 3.9729 | CVaR: 3.9037\n"
          ]
        },
        {
          "output_type": "stream",
          "name": "stderr",
          "text": [
            "Entraînement:  12%|█▏        | 61/500 [01:14<09:02,  1.24s/it]"
          ]
        },
        {
          "output_type": "stream",
          "name": "stdout",
          "text": [
            "Epoch 60 | Loss: 3.9208 | CVaR: 3.8753\n"
          ]
        },
        {
          "output_type": "stream",
          "name": "stderr",
          "text": [
            "Entraînement:  14%|█▍        | 71/500 [01:26<09:06,  1.27s/it]"
          ]
        },
        {
          "output_type": "stream",
          "name": "stdout",
          "text": [
            "Epoch 70 | Loss: 3.7497 | CVaR: 3.7577\n"
          ]
        },
        {
          "output_type": "stream",
          "name": "stderr",
          "text": [
            "Entraînement:  16%|█▌        | 81/500 [01:36<07:26,  1.07s/it]"
          ]
        },
        {
          "output_type": "stream",
          "name": "stdout",
          "text": [
            "Epoch 80 | Loss: 3.8333 | CVaR: 3.7474\n"
          ]
        },
        {
          "output_type": "stream",
          "name": "stderr",
          "text": [
            "Entraînement:  18%|█▊        | 91/500 [01:49<07:55,  1.16s/it]"
          ]
        },
        {
          "output_type": "stream",
          "name": "stdout",
          "text": [
            "Epoch 90 | Loss: 3.6542 | CVaR: 3.7834\n"
          ]
        },
        {
          "output_type": "stream",
          "name": "stderr",
          "text": [
            "Entraînement:  20%|██        | 101/500 [02:00<06:57,  1.05s/it]"
          ]
        },
        {
          "output_type": "stream",
          "name": "stdout",
          "text": [
            "Epoch 100 | Loss: 3.8689 | CVaR: 3.7424\n"
          ]
        },
        {
          "output_type": "stream",
          "name": "stderr",
          "text": [
            "Entraînement:  22%|██▏       | 111/500 [02:13<07:11,  1.11s/it]"
          ]
        },
        {
          "output_type": "stream",
          "name": "stdout",
          "text": [
            "Epoch 110 | Loss: 3.6716 | CVaR: 3.6995\n"
          ]
        },
        {
          "output_type": "stream",
          "name": "stderr",
          "text": [
            "Entraînement:  24%|██▍       | 121/500 [02:24<06:55,  1.10s/it]"
          ]
        },
        {
          "output_type": "stream",
          "name": "stdout",
          "text": [
            "Epoch 120 | Loss: 4.2756 | CVaR: 3.7548\n"
          ]
        },
        {
          "output_type": "stream",
          "name": "stderr",
          "text": [
            "Entraînement:  26%|██▌       | 131/500 [02:35<07:22,  1.20s/it]"
          ]
        },
        {
          "output_type": "stream",
          "name": "stdout",
          "text": [
            "Epoch 130 | Loss: 3.9678 | CVaR: 3.8097\n"
          ]
        },
        {
          "output_type": "stream",
          "name": "stderr",
          "text": [
            "Entraînement:  28%|██▊       | 141/500 [02:47<08:11,  1.37s/it]"
          ]
        },
        {
          "output_type": "stream",
          "name": "stdout",
          "text": [
            "Epoch 140 | Loss: 3.6317 | CVaR: 3.6900\n"
          ]
        },
        {
          "output_type": "stream",
          "name": "stderr",
          "text": [
            "Entraînement:  30%|███       | 151/500 [02:58<06:41,  1.15s/it]"
          ]
        },
        {
          "output_type": "stream",
          "name": "stdout",
          "text": [
            "Epoch 150 | Loss: 3.9120 | CVaR: 3.6952\n"
          ]
        },
        {
          "output_type": "stream",
          "name": "stderr",
          "text": [
            "Entraînement:  32%|███▏      | 161/500 [03:09<05:49,  1.03s/it]"
          ]
        },
        {
          "output_type": "stream",
          "name": "stdout",
          "text": [
            "Epoch 160 | Loss: 3.8731 | CVaR: 3.7856\n"
          ]
        },
        {
          "output_type": "stream",
          "name": "stderr",
          "text": [
            "Entraînement:  34%|███▍      | 171/500 [03:20<05:41,  1.04s/it]"
          ]
        },
        {
          "output_type": "stream",
          "name": "stdout",
          "text": [
            "Epoch 170 | Loss: 3.9515 | CVaR: 3.7377\n"
          ]
        },
        {
          "output_type": "stream",
          "name": "stderr",
          "text": [
            "Entraînement:  36%|███▌      | 181/500 [03:32<06:00,  1.13s/it]"
          ]
        },
        {
          "output_type": "stream",
          "name": "stdout",
          "text": [
            "Epoch 180 | Loss: 3.6820 | CVaR: 3.6848\n"
          ]
        },
        {
          "output_type": "stream",
          "name": "stderr",
          "text": [
            "Entraînement:  38%|███▊      | 191/500 [03:44<06:18,  1.22s/it]"
          ]
        },
        {
          "output_type": "stream",
          "name": "stdout",
          "text": [
            "Epoch 190 | Loss: 3.7187 | CVaR: 3.6945\n"
          ]
        },
        {
          "output_type": "stream",
          "name": "stderr",
          "text": [
            "Entraînement:  40%|████      | 201/500 [03:57<06:09,  1.24s/it]"
          ]
        },
        {
          "output_type": "stream",
          "name": "stdout",
          "text": [
            "Epoch 200 | Loss: 3.7112 | CVaR: 3.6963\n"
          ]
        },
        {
          "output_type": "stream",
          "name": "stderr",
          "text": [
            "Entraînement:  42%|████▏     | 211/500 [04:09<05:42,  1.19s/it]"
          ]
        },
        {
          "output_type": "stream",
          "name": "stdout",
          "text": [
            "Epoch 210 | Loss: 3.9411 | CVaR: 3.6845\n"
          ]
        },
        {
          "output_type": "stream",
          "name": "stderr",
          "text": [
            "Entraînement:  44%|████▍     | 221/500 [04:19<05:41,  1.23s/it]"
          ]
        },
        {
          "output_type": "stream",
          "name": "stdout",
          "text": [
            "Epoch 220 | Loss: 3.6975 | CVaR: 3.6679\n"
          ]
        },
        {
          "output_type": "stream",
          "name": "stderr",
          "text": [
            "Entraînement:  46%|████▌     | 231/500 [04:35<05:44,  1.28s/it]"
          ]
        },
        {
          "output_type": "stream",
          "name": "stdout",
          "text": [
            "Epoch 230 | Loss: 3.7571 | CVaR: 3.7143\n"
          ]
        },
        {
          "output_type": "stream",
          "name": "stderr",
          "text": [
            "Entraînement:  48%|████▊     | 241/500 [04:45<05:11,  1.20s/it]"
          ]
        },
        {
          "output_type": "stream",
          "name": "stdout",
          "text": [
            "Epoch 240 | Loss: 3.6252 | CVaR: 3.7049\n"
          ]
        },
        {
          "output_type": "stream",
          "name": "stderr",
          "text": [
            "Entraînement:  50%|█████     | 251/500 [04:56<04:17,  1.04s/it]"
          ]
        },
        {
          "output_type": "stream",
          "name": "stdout",
          "text": [
            "Epoch 250 | Loss: 3.6680 | CVaR: 3.6486\n"
          ]
        },
        {
          "output_type": "stream",
          "name": "stderr",
          "text": [
            "Entraînement:  52%|█████▏    | 261/500 [05:09<05:30,  1.38s/it]"
          ]
        },
        {
          "output_type": "stream",
          "name": "stdout",
          "text": [
            "Epoch 260 | Loss: 3.5703 | CVaR: 3.6517\n"
          ]
        },
        {
          "output_type": "stream",
          "name": "stderr",
          "text": [
            "Entraînement:  54%|█████▍    | 271/500 [05:20<04:03,  1.06s/it]"
          ]
        },
        {
          "output_type": "stream",
          "name": "stdout",
          "text": [
            "Epoch 270 | Loss: 3.5510 | CVaR: 3.6305\n"
          ]
        },
        {
          "output_type": "stream",
          "name": "stderr",
          "text": [
            "Entraînement:  56%|█████▌    | 281/500 [05:32<03:53,  1.07s/it]"
          ]
        },
        {
          "output_type": "stream",
          "name": "stdout",
          "text": [
            "Epoch 280 | Loss: 3.7807 | CVaR: 3.6728\n"
          ]
        },
        {
          "output_type": "stream",
          "name": "stderr",
          "text": [
            "Entraînement:  58%|█████▊    | 291/500 [05:43<03:50,  1.10s/it]"
          ]
        },
        {
          "output_type": "stream",
          "name": "stdout",
          "text": [
            "Epoch 290 | Loss: 3.6048 | CVaR: 3.6427\n"
          ]
        },
        {
          "output_type": "stream",
          "name": "stderr",
          "text": [
            "Entraînement:  60%|██████    | 301/500 [05:54<03:57,  1.19s/it]"
          ]
        },
        {
          "output_type": "stream",
          "name": "stdout",
          "text": [
            "Epoch 300 | Loss: 3.9743 | CVaR: 3.6906\n"
          ]
        },
        {
          "output_type": "stream",
          "name": "stderr",
          "text": [
            "Entraînement:  62%|██████▏   | 311/500 [06:06<04:05,  1.30s/it]"
          ]
        },
        {
          "output_type": "stream",
          "name": "stdout",
          "text": [
            "Epoch 310 | Loss: 3.9442 | CVaR: 3.6523\n"
          ]
        },
        {
          "output_type": "stream",
          "name": "stderr",
          "text": [
            "Entraînement:  64%|██████▍   | 321/500 [06:16<03:12,  1.07s/it]"
          ]
        },
        {
          "output_type": "stream",
          "name": "stdout",
          "text": [
            "Epoch 320 | Loss: 3.6378 | CVaR: 3.6497\n"
          ]
        },
        {
          "output_type": "stream",
          "name": "stderr",
          "text": [
            "Entraînement:  66%|██████▌   | 331/500 [06:28<02:56,  1.04s/it]"
          ]
        },
        {
          "output_type": "stream",
          "name": "stdout",
          "text": [
            "Epoch 330 | Loss: 3.7251 | CVaR: 3.6200\n"
          ]
        },
        {
          "output_type": "stream",
          "name": "stderr",
          "text": [
            "Entraînement:  68%|██████▊   | 341/500 [06:39<02:47,  1.05s/it]"
          ]
        },
        {
          "output_type": "stream",
          "name": "stdout",
          "text": [
            "Epoch 340 | Loss: 3.7137 | CVaR: 3.6353\n"
          ]
        },
        {
          "output_type": "stream",
          "name": "stderr",
          "text": [
            "Entraînement:  70%|███████   | 351/500 [06:52<02:56,  1.19s/it]"
          ]
        },
        {
          "output_type": "stream",
          "name": "stdout",
          "text": [
            "Epoch 350 | Loss: 3.7647 | CVaR: 3.6466\n"
          ]
        },
        {
          "output_type": "stream",
          "name": "stderr",
          "text": [
            "Entraînement:  72%|███████▏  | 361/500 [07:04<02:32,  1.10s/it]"
          ]
        },
        {
          "output_type": "stream",
          "name": "stdout",
          "text": [
            "Epoch 360 | Loss: 3.9165 | CVaR: 3.7636\n"
          ]
        },
        {
          "output_type": "stream",
          "name": "stderr",
          "text": [
            "Entraînement:  74%|███████▍  | 371/500 [07:17<03:00,  1.40s/it]"
          ]
        },
        {
          "output_type": "stream",
          "name": "stdout",
          "text": [
            "Epoch 370 | Loss: 3.6560 | CVaR: 3.6834\n"
          ]
        },
        {
          "output_type": "stream",
          "name": "stderr",
          "text": [
            "Entraînement:  76%|███████▌  | 381/500 [07:31<02:46,  1.40s/it]"
          ]
        },
        {
          "output_type": "stream",
          "name": "stdout",
          "text": [
            "Epoch 380 | Loss: 3.6572 | CVaR: 3.6762\n"
          ]
        },
        {
          "output_type": "stream",
          "name": "stderr",
          "text": [
            "Entraînement:  78%|███████▊  | 391/500 [07:42<02:06,  1.16s/it]"
          ]
        },
        {
          "output_type": "stream",
          "name": "stdout",
          "text": [
            "Epoch 390 | Loss: 3.6665 | CVaR: 3.6851\n"
          ]
        },
        {
          "output_type": "stream",
          "name": "stderr",
          "text": [
            "Entraînement:  80%|████████  | 401/500 [07:54<02:05,  1.27s/it]"
          ]
        },
        {
          "output_type": "stream",
          "name": "stdout",
          "text": [
            "Epoch 400 | Loss: 3.7493 | CVaR: 3.6256\n"
          ]
        },
        {
          "output_type": "stream",
          "name": "stderr",
          "text": [
            "Entraînement:  82%|████████▏ | 411/500 [08:05<01:43,  1.17s/it]"
          ]
        },
        {
          "output_type": "stream",
          "name": "stdout",
          "text": [
            "Epoch 410 | Loss: 3.7556 | CVaR: 3.6463\n"
          ]
        },
        {
          "output_type": "stream",
          "name": "stderr",
          "text": [
            "Entraînement:  84%|████████▍ | 421/500 [08:16<01:22,  1.04s/it]"
          ]
        },
        {
          "output_type": "stream",
          "name": "stdout",
          "text": [
            "Epoch 420 | Loss: 3.7405 | CVaR: 3.6290\n"
          ]
        },
        {
          "output_type": "stream",
          "name": "stderr",
          "text": [
            "Entraînement:  86%|████████▌ | 431/500 [08:27<01:12,  1.04s/it]"
          ]
        },
        {
          "output_type": "stream",
          "name": "stdout",
          "text": [
            "Epoch 430 | Loss: 3.5327 | CVaR: 3.6849\n"
          ]
        },
        {
          "output_type": "stream",
          "name": "stderr",
          "text": [
            "Entraînement:  88%|████████▊ | 441/500 [08:40<01:11,  1.21s/it]"
          ]
        },
        {
          "output_type": "stream",
          "name": "stdout",
          "text": [
            "Epoch 440 | Loss: 3.7611 | CVaR: 3.6379\n"
          ]
        },
        {
          "output_type": "stream",
          "name": "stderr",
          "text": [
            "Entraînement:  90%|█████████ | 451/500 [08:52<00:52,  1.08s/it]"
          ]
        },
        {
          "output_type": "stream",
          "name": "stdout",
          "text": [
            "Epoch 450 | Loss: 3.6499 | CVaR: 3.6319\n"
          ]
        },
        {
          "output_type": "stream",
          "name": "stderr",
          "text": [
            "Entraînement:  92%|█████████▏| 461/500 [09:05<00:47,  1.22s/it]"
          ]
        },
        {
          "output_type": "stream",
          "name": "stdout",
          "text": [
            "Epoch 460 | Loss: 3.6722 | CVaR: 3.6200\n"
          ]
        },
        {
          "output_type": "stream",
          "name": "stderr",
          "text": [
            "Entraînement:  94%|█████████▍| 471/500 [09:16<00:33,  1.15s/it]"
          ]
        },
        {
          "output_type": "stream",
          "name": "stdout",
          "text": [
            "Epoch 470 | Loss: 3.6194 | CVaR: 3.6452\n"
          ]
        },
        {
          "output_type": "stream",
          "name": "stderr",
          "text": [
            "Entraînement:  96%|█████████▌| 481/500 [09:27<00:24,  1.28s/it]"
          ]
        },
        {
          "output_type": "stream",
          "name": "stdout",
          "text": [
            "Epoch 480 | Loss: 3.7767 | CVaR: 3.6409\n"
          ]
        },
        {
          "output_type": "stream",
          "name": "stderr",
          "text": [
            "Entraînement:  98%|█████████▊| 491/500 [09:38<00:10,  1.18s/it]"
          ]
        },
        {
          "output_type": "stream",
          "name": "stdout",
          "text": [
            "Epoch 490 | Loss: 3.6670 | CVaR: 3.6458\n"
          ]
        },
        {
          "output_type": "stream",
          "name": "stderr",
          "text": [
            "Entraînement: 100%|██████████| 500/500 [09:48<00:00,  1.18s/it]\n"
          ]
        },
        {
          "output_type": "display_data",
          "data": {
            "text/plain": [
              "<Figure size 1500x1000 with 4 Axes>"
            ],
            "image/png": "[encoded data removed]"
          },
          "metadata": {}
        },
        {
          "output_type": "stream",
          "name": "stdout",
          "text": [
            "                Moyenne  Écart-type  CVaR 95%\n",
            "Black-Scholes -2.511424    0.515239  3.716721\n",
            "LSTM          -2.507137    0.562875  3.617353\n"
          ]
        }
      ],
      "source": [
        "# ==================== GÉNÉRATION DE DONNÉES ====================\n",
        "def monte_carlo_paths(S_0, time_to_expiry, sigma, drift, seed, n_sims, n_timesteps):\n",
        "    \"\"\"Génère des trajectoires de prix en 3D : (n_timesteps+1, n_sims, 1).\"\"\"\n",
        "    if seed is not None:\n",
        "        np.random.seed(seed)\n",
        "\n",
        "    dt_val = time_to_expiry / n_timesteps\n",
        "    paths = np.zeros((n_timesteps + 1, n_sims, 1))\n",
        "    paths[0, :, 0] = S_0\n",
        "    for t in range(1, n_timesteps + 1):\n",
        "        rand = np.random.normal(0, 1, n_sims)\n",
        "        paths[t, :, 0] = paths[t-1, :, 0] * np.exp(\n",
        "            (drift - 0.5 * sigma**2) * dt_val +\n",
        "            sigma * np.sqrt(dt_val) * rand\n",
        "        )\n",
        "    return paths\n",
        "\n",
        "@tf.keras.utils.register_keras_serializable()\n",
        "class Agent(tf.keras.Model):\n",
        "    def __init__(self,\n",
        "                 time_steps,\n",
        "                 batch_size,\n",
        "                 features,  # doit être égal à 7\n",
        "                 T,\n",
        "                 r=0.05,\n",
        "                 sigma=0.2,\n",
        "                 nodes=[64, 48, 32, 1],\n",
        "                 lambda_skew=0.1,\n",
        "                 lambda_var=0.1,\n",
        "                 name='model',\n",
        "                 **kwargs):  # Accepte les kwargs pour ignorer les paramètres supplémentaires\n",
        "        super().__init__(name=name, **kwargs)\n",
        "        self.time_steps = time_steps\n",
        "        self.batch_size = batch_size\n",
        "        self.features = features\n",
        "        self.T = T\n",
        "        self.r = r\n",
        "        self.sigma = sigma\n",
        "        self.lambda_skew = lambda_skew\n",
        "        self.lambda_var = lambda_var\n",
        "        self.nodes = nodes  # On sauvegarde la liste des nodes pour la config\n",
        "\n",
        "        # Construction de l'architecture LSTM\n",
        "        self.lstm_layers = [\n",
        "            tf.keras.layers.LSTM(\n",
        "                units,\n",
        "                return_sequences=True,\n",
        "                activation='tanh',\n",
        "                kernel_initializer='glorot_uniform'\n",
        "            )\n",
        "            for units in nodes\n",
        "        ]\n",
        "        self.optimizer = tf.keras.optimizers.Adam(learning_rate=0.001, clipvalue=1.0)\n",
        "\n",
        "    def call(self, inputs):\n",
        "        \"\"\"\n",
        "        Passage avant du modèle.\n",
        "        Les inputs doivent avoir la forme (1, batch_size, features).\n",
        "        \"\"\"\n",
        "        x = inputs\n",
        "        for lstm in self.lstm_layers:\n",
        "            x = lstm(x)\n",
        "        # On renvoie un tenseur de forme (batch_size,)\n",
        "        return tf.squeeze(x, axis=[0, -1])\n",
        "\n",
        "    def get_config(self):\n",
        "        config = super().get_config()\n",
        "        config.update({\n",
        "            'time_steps': self.time_steps,\n",
        "            'batch_size': self.batch_size,\n",
        "            'features': self.features,\n",
        "            'T': self.T,\n",
        "            'r': self.r,\n",
        "            'sigma': self.sigma,\n",
        "            'nodes': self.nodes,\n",
        "            'lambda_skew': self.lambda_skew,\n",
        "            'lambda_var': self.lambda_var,\n",
        "        })\n",
        "        return config\n",
        "\n",
        "    def black_scholes_call_price(self, S, K, T, r, sigma):\n",
        "        \"\"\"\n",
        "        Calcule le prix d'un call européen via Black-Scholes de manière différentiable.\n",
        "        :param S: prix du sous-jacent (tensor)\n",
        "        :param K: strike (scalar ou tensor)\n",
        "        :param T: temps jusqu'à maturité (tensor ou scalaire)\n",
        "        \"\"\"\n",
        "        eps = 1e-8\n",
        "        T = tf.maximum(T, eps)\n",
        "        d1 = (tf.math.log(S / K) + (r + 0.5 * sigma ** 2) * T) / (sigma * tf.sqrt(T))\n",
        "        d2 = d1 - sigma * tf.sqrt(T)\n",
        "        cdf_d1 = 0.5 * (1.0 + tf.math.erf(d1 / tf.sqrt(2.0)))\n",
        "        cdf_d2 = 0.5 * (1.0 + tf.math.erf(d2 / tf.sqrt(2.0)))\n",
        "        call = S * cdf_d1 - K * tf.exp(-r * T) * cdf_d2\n",
        "        return call\n",
        "\n",
        "    def calculate_hedging_pnl(self, S_t_input, K, delta_init=None, cash_init=None):\n",
        "        \"\"\"\n",
        "        Calcule le PnL de la stratégie de couverture de manière récursive.\n",
        "\n",
        "        :param S_t_input: trajectoires de prix, tenseur de forme (time_steps, batch_size, 1)\n",
        "        :param K: strike de l'option (scalar ou tensor)\n",
        "        :param delta_init: (optionnel) delta initial pour chaque échantillon, tenseur de forme (batch_size,)\n",
        "        :param cash_init: (optionnel) cash initial pour chaque échantillon, tenseur de forme (batch_size,)\n",
        "        :return: tuple (pnl, decisions) où :\n",
        "          - pnl est un tenseur de forme (batch_size,) représentant le PnL final,\n",
        "          - decisions est un tenseur contenant les deltas calculés à chaque instant.\n",
        "        \"\"\"\n",
        "        time_steps = tf.shape(S_t_input)[0]\n",
        "        batch_size = tf.shape(S_t_input)[1]\n",
        "        dt_val = self.T / tf.cast(time_steps - 1, tf.float32)\n",
        "\n",
        "        # Initialisation du delta et du cash\n",
        "        if delta_init is None:\n",
        "            delta_prev = tf.zeros((batch_size,), dtype=tf.float32)\n",
        "        else:\n",
        "            delta_prev = delta_init\n",
        "\n",
        "        if cash_init is None:\n",
        "            cash_prev = tf.zeros((batch_size,), dtype=tf.float32)\n",
        "        else:\n",
        "            cash_prev = cash_init\n",
        "\n",
        "        # Initialisation du call à t=0\n",
        "        S0_tensor = tf.squeeze(S_t_input[0, :, :], axis=-1)\n",
        "        T_remaining_0 = self.T\n",
        "        call_price_t = self.black_scholes_call_price(S0_tensor, K, T_remaining_0, self.r, self.sigma)\n",
        "        call_price_t_minus = call_price_t  # pour t = 0, aucune valeur antérieure\n",
        "\n",
        "        decisions = tf.TensorArray(tf.float32, size=time_steps, dynamic_size=False)\n",
        "\n",
        "        for t in tf.range(time_steps):\n",
        "            T_remaining = self.T - tf.cast(t, tf.float32) * dt_val\n",
        "            S_t = tf.squeeze(S_t_input[t, :, :], axis=-1)\n",
        "            call_price_t = self.black_scholes_call_price(S_t, K, T_remaining, self.r, self.sigma)\n",
        "            simulation_summary = S_t * tf.exp(self.r * T_remaining)\n",
        "            T_vec = T_remaining * tf.ones_like(S_t)\n",
        "            x_t = tf.stack([\n",
        "                S_t,\n",
        "                T_vec,\n",
        "                delta_prev,\n",
        "                cash_prev,\n",
        "                call_price_t_minus,\n",
        "                call_price_t,\n",
        "                simulation_summary\n",
        "            ], axis=-1)\n",
        "            x_t_expanded = tf.expand_dims(x_t, axis=0)  # forme (1, batch_size, 7)\n",
        "            delta_t = self(x_t_expanded)\n",
        "            decisions = decisions.write(t, delta_t)\n",
        "\n",
        "            cash_t = tf.cond(\n",
        "                tf.equal(t, 0),\n",
        "                lambda: -(delta_t - delta_prev) * S_t,\n",
        "                lambda: cash_prev * tf.exp(self.r * dt_val) - (delta_t - delta_prev) * S_t\n",
        "            )\n",
        "            delta_prev = delta_t\n",
        "            cash_prev = cash_t\n",
        "            call_price_t_minus = call_price_t\n",
        "\n",
        "        cash_final = cash_prev * tf.exp(self.r * dt_val)\n",
        "        S_T = tf.squeeze(S_t_input[-1, :, :], axis=-1)\n",
        "        Pi_T = delta_prev * S_T + cash_final\n",
        "        pnl = Pi_T - tf.maximum(S_T - K, 0)\n",
        "        decisions = decisions.stack()\n",
        "        return pnl, decisions\n",
        "\n",
        "    def calculate_cvar(self, pnl, alpha):\n",
        "        sorted_pnl = tf.sort(pnl)  # ordre croissant\n",
        "        n = tf.cast(tf.shape(pnl)[0], tf.float32)\n",
        "        var_index = tf.cast((1 - alpha) * n, tf.int32)\n",
        "        return -tf.reduce_mean(sorted_pnl[:var_index])\n",
        "\n",
        "    def calculate_skewness(self, pnl):\n",
        "        mean_pnl = tf.reduce_mean(pnl)\n",
        "        std_pnl = tf.math.reduce_std(pnl) + 1e-8\n",
        "        skew = tf.reduce_mean(((pnl - mean_pnl) / std_pnl) ** 3)\n",
        "        return skew\n",
        "\n",
        "    def calculate_variance(self, pnl):\n",
        "        return tf.math.reduce_variance(pnl)\n",
        "\n",
        "    @tf.function\n",
        "    def train_step(self, S_t_input, K, alpha):\n",
        "        with tf.GradientTape() as tape:\n",
        "            pnl, decisions = self.calculate_hedging_pnl(S_t_input, K)\n",
        "            cvar = self.calculate_cvar(pnl, alpha)\n",
        "            skew = self.calculate_skewness(pnl)\n",
        "            var = self.calculate_variance(pnl)\n",
        "            loss = cvar - self.lambda_skew * skew + self.lambda_var * var\n",
        "        grads = tape.gradient(loss, self.trainable_variables)\n",
        "        self.optimizer.apply_gradients(zip(grads, self.trainable_variables))\n",
        "        return loss, pnl, decisions\n",
        "\n",
        "    def training(self, paths, strikes, riskaversion, epochs):\n",
        "        sample_size = paths.shape[1]\n",
        "        idx = np.arange(sample_size)\n",
        "        for epoch in range(epochs):\n",
        "            np.random.shuffle(idx)\n",
        "            pnls = []\n",
        "            for i in range(0, sample_size, self.batch_size):\n",
        "                batch_idx = idx[i:i+self.batch_size]\n",
        "                batch = paths[:, batch_idx, :]  # forme : (time_steps, batch_size, 1)\n",
        "                loss, pnl, _ = self.train_step(\n",
        "                    tf.cast(batch, tf.float32),\n",
        "                    tf.cast(strikes[batch_idx], tf.float32),\n",
        "                    tf.constant(riskaversion, tf.float32)\n",
        "                )\n",
        "                pnls.append(pnl.numpy())\n",
        "            if epoch % 10 == 0:\n",
        "                all_pnls = np.concatenate(pnls)\n",
        "                current_cvar = np.mean(-np.sort(all_pnls)[:int((1 - riskaversion) * sample_size)])\n",
        "                print(f\"Epoch {epoch} | Loss: {loss.numpy():.4f} | CVaR: {current_cvar:.4f}\")\n",
        "        return self\n",
        "# ==================== ÉVALUATION ====================\n",
        "class HedgingTest:\n",
        "    def __init__(self, S_0=100, K=100, r=0.05, T=1/12, vol=0.2, timesteps=15):\n",
        "        self.params = {\n",
        "            'S_0': S_0,\n",
        "            'K': K,\n",
        "            'r': r,\n",
        "            'T': T,\n",
        "            'vol': vol,\n",
        "            'timesteps': timesteps\n",
        "        }\n",
        "        self.dt = T / timesteps\n",
        "\n",
        "    def black_scholes_delta(self, S, t):\n",
        "        if t <= 1e-6:\n",
        "            return np.where(S > self.params['K'], 1.0, 0.0)\n",
        "        d1 = (np.log(S/self.params['K']) +\n",
        "              (self.params['r'] + 0.5*self.params['vol']**2)*t) / (self.params['vol']*np.sqrt(t))\n",
        "        return norm.cdf(d1)\n",
        "\n",
        "    def calculate_bs_pnl(self, paths):\n",
        "        n_sims = paths.shape[1]\n",
        "        pnls = np.zeros(n_sims)\n",
        "        for i in range(n_sims):\n",
        "            path = paths[:, i, 0]\n",
        "            cash = 0.0\n",
        "            delta_prev = 0.0\n",
        "            for t in range(len(path)-1):\n",
        "                time_left = self.params['T'] - t*self.dt\n",
        "                delta = self.black_scholes_delta(path[t], time_left)\n",
        "                cash = cash * np.exp(self.params['r'] * self.dt) - (delta - delta_prev)*path[t]\n",
        "                delta_prev = delta\n",
        "            cash_final = cash * np.exp(self.params['r'] * self.dt)\n",
        "            Pi_T = delta_prev * path[-1] + cash_final\n",
        "            pnls[i] = Pi_T - max(path[-1] - self.params['K'], 0)\n",
        "        return pnls\n",
        "\n",
        "    def compare_strategies(self, model, n_paths=5000):\n",
        "        path_params = {\n",
        "            'S_0': self.params['S_0'],\n",
        "            'time_to_expiry': self.params['T'],\n",
        "            'sigma': self.params['vol'],\n",
        "            'drift': self.params['r'],\n",
        "            'seed': 42,\n",
        "            'n_sims': n_paths,\n",
        "            'n_timesteps': self.params['timesteps']\n",
        "        }\n",
        "        paths = monte_carlo_paths(**path_params)\n",
        "        bs_pnl = self.calculate_bs_pnl(paths)\n",
        "        pnl_tensor, _ = model.calculate_hedging_pnl(tf.constant(paths, tf.float32),\n",
        "                                                    tf.constant(self.params['K'], tf.float32))\n",
        "        lstm_pnl = pnl_tensor.numpy()\n",
        "        results = {\n",
        "            'Black-Scholes': {\n",
        "                'Moyenne': bs_pnl.mean(),\n",
        "                'Écart-type': bs_pnl.std(),\n",
        "                'CVaR 95%': self._calculate_cvar(bs_pnl, 0.95)\n",
        "            },\n",
        "            'LSTM': {\n",
        "                'Moyenne': lstm_pnl.mean(),\n",
        "                'Écart-type': lstm_pnl.std(),\n",
        "                'CVaR 95%': self._calculate_cvar(lstm_pnl, 0.95)\n",
        "            }\n",
        "        }\n",
        "        self._plot_results(bs_pnl, lstm_pnl)\n",
        "        return results\n",
        "\n",
        "    def _calculate_cvar(self, pnl, alpha):\n",
        "        sorted_pnl = np.sort(pnl)\n",
        "        n_worst = int((1 - alpha) * len(pnl))\n",
        "        return -sorted_pnl[:n_worst].mean()\n",
        "\n",
        "    def _plot_results(self, bs_pnl, lstm_pnl):\n",
        "        plt.figure(figsize=(15, 10))\n",
        "        plt.subplot(2, 2, 1)\n",
        "        sns.kdeplot(bs_pnl, label='Black-Scholes', fill=True)\n",
        "        sns.kdeplot(lstm_pnl, label='LSTM', fill=True)\n",
        "        plt.title('Distribution des PnL')\n",
        "        plt.xlabel('PnL')\n",
        "        plt.legend()\n",
        "        plt.subplot(2, 2, 2)\n",
        "        pnl_data = pd.DataFrame({'Black-Scholes': bs_pnl, 'LSTM': lstm_pnl})\n",
        "        sns.boxplot(data=pnl_data)\n",
        "        plt.title('Box Plot des PnL')\n",
        "        plt.ylabel('PnL')\n",
        "        plt.subplot(2, 2, 3)\n",
        "        plt.bar(['Black-Scholes', 'LSTM'],\n",
        "                [self._calculate_cvar(bs_pnl, 0.95), self._calculate_cvar(lstm_pnl, 0.95)])\n",
        "        plt.title('CVaR 95% Comparaison')\n",
        "        plt.ylabel('CVaR')\n",
        "        plt.subplot(2, 2, 4)\n",
        "        stats_df = pd.DataFrame({\n",
        "            'Black-Scholes': [np.mean(bs_pnl), np.median(bs_pnl), np.std(bs_pnl),\n",
        "                              np.percentile(bs_pnl, 5), np.percentile(bs_pnl, 95)],\n",
        "            'LSTM': [np.mean(lstm_pnl), np.median(lstm_pnl), np.std(lstm_pnl),\n",
        "                     np.percentile(lstm_pnl, 5), np.percentile(lstm_pnl, 95)]\n",
        "        }, index=['Mean', 'Median', 'Std', '5th Percentile', '95th Percentile'])\n",
        "        plt.table(cellText=stats_df.round(4).values,\n",
        "                  rowLabels=stats_df.index,\n",
        "                  colLabels=stats_df.columns,\n",
        "                  cellLoc='center', loc='center')\n",
        "        plt.axis('off')\n",
        "        plt.title('Statistical Summary')\n",
        "        plt.tight_layout()\n",
        "        plt.show()\n",
        "\n",
        "# ==================== EXÉCUTION ====================\n",
        "def run_training():\n",
        "    params = {\n",
        "        'S_0': 100,\n",
        "        'T': 1/12,  # Par exemple 1 mois de maturité pour l'entraînement\n",
        "        'r': 0.05,\n",
        "        'vol': 0.2,\n",
        "        'timesteps': 15,\n",
        "        'n_sims': 100,\n",
        "        'batch_size': 500,\n",
        "        'epochs': 50,\n",
        "        'alpha': 0.95,\n",
        "        'lambda_skew': 0.2,\n",
        "        'lambda_var': 0.2\n",
        "    }\n",
        "    print(\"Génération des paths...\")\n",
        "    paths = monte_carlo_paths(\n",
        "        S_0=params['S_0'],\n",
        "        time_to_expiry=params['T'],\n",
        "        sigma=params['vol'],\n",
        "        drift=params['r'],\n",
        "        seed=42,\n",
        "        n_sims=params['n_sims'],\n",
        "        n_timesteps=params['timesteps']\n",
        "    )\n",
        "    # Ici, features = 7 :\n",
        "    # [Sₜ, T_remaining, delta_prev, cash_prev, call_price_t_minus, call_price_t, simulation_summary]\n",
        "    model = Agent(\n",
        "        time_steps=paths.shape[0],\n",
        "        batch_size=params['batch_size'],\n",
        "        features=7,\n",
        "        T=params['T'],\n",
        "        r=params['r'],\n",
        "        sigma=params['vol'],\n",
        "        lambda_skew=params['lambda_skew'],\n",
        "        lambda_var=params['lambda_var']\n",
        "    )\n",
        "    print(\"Début de l'entraînement...\")\n",
        "    model.training(\n",
        "        paths,\n",
        "        np.full(params['n_sims'], 100),  # Strike K = 100\n",
        "        params['alpha'],\n",
        "        params['epochs']\n",
        "    )\n",
        "    return model\n",
        "\n",
        "if __name__ == \"__main__\":\n",
        "    trained_model = run_training()\n",
        "    trained_model.save(\"trained_model.keras\")\n",
        "\n",
        "\n",
        "if __name__ == \"__main__\":\n",
        "    # Entraîner le modèle ou charger un modèle pré-entraîné\n",
        "    try:\n",
        "        print(\"Tentative de chargement du modèle pré-entraîné...\")\n",
        "        trained_model = tf.keras.models.load_model(\"trained_model.keras\")\n",
        "        print(\"Modèle chargé avec succès!\")\n",
        "    except:\n",
        "        print(\"Aucun modèle trouvé, entraînement d'un nouveau modèle...\")\n",
        "        trained_model = run_training()\n",
        "        trained_model.save(\"trained_model.keras\")\n",
        "\n",
        "    # Créer une instance de HedgingTest avec les paramètres par défaut\n",
        "    print(\"Initialisation du test de hedging...\")\n",
        "    hedging_test = HedgingTest(S_0=100, K=100, r=0.05, T=1/12, vol=0.2, timesteps=15)\n",
        "\n",
        "    # Comparer les stratégies et afficher les résultats\n",
        "    print(\"Comparaison des stratégies de hedging...\")\n",
        "    results = hedging_test.compare_strategies(trained_model, n_paths=500)\n",
        "\n",
        "    # Afficher les résultats numériques\n",
        "    print(\"\\nRésultats de la comparaison:\")\n",
        "    for strategy, metrics in results.items():\n",
        "        print(f\"\\n{strategy}:\")\n",
        "        for metric, value in metrics.items():\n",
        "            print(f\"  {metric}: {value:.6f}\")\n",
        "\n",
        "    # Les graphiques sont déjà générés par la méthode _plot_results appelée dans compare_strategies\n",
        "    print(\"\\nLes graphiques de comparaison ont été générés.\")"
      ]
    },
    {
      "cell_type": "markdown",
      "source": [
        "# Analyse comparative : LSTM vs Black-Scholes\n",
        "---\n",
        "\n",
        "## 1. Distribution des PnL\n",
        "\n",
        "1. **Forme de la distribution**  \n",
        "   - On observe que la **courbe LSTM** (en orange) est légèrement plus **resserrée** autour de sa moyenne que celle de Black-Scholes (en bleu).  \n",
        "   - Cela se reflète dans la **moindre dispersion** visible dans la partie centrale de la distribution.\n",
        "\n",
        "2. **Position de la moyenne**  \n",
        "   - D’après le tableau, la moyenne du PnL pour le LSTM est moins négative  que celle de Black-Scholes .  \n",
        "   - Cela suggère que **la stratégie LSTM parvient en moyenne à réaliser un PnL plus élevé** (moins de perte).\n",
        "\n",
        "3. **Dispersion (Std)**  \n",
        "   - La **standard deviation** (écart-type) du PnL LSTM est plus faible  que celle de Black-Scholes .  \n",
        "   - Cette **diminution de la volatilité** indique que la couverture proposée par le LSTM est **plus stable** ou **moins risquée** (du point de vue de la variabilité).\n",
        "\n",
        "---\n",
        "\n",
        "## 2. Box Plot des PnL\n",
        "\n",
        "1. **Comparaison des boîtes**  \n",
        "   - La boîte (intervalle interquartile) du LSTM est souvent **plus resserrée**, indiquant une plus faible variance ou un intervalle interquartile plus étroit.  \n",
        "   - Le médian (ligne centrale de la boîte) pour le LSTM est **plus élevé** que celui de Black-Scholes, ce qui confirme qu’en « position centrale », la stratégie LSTM obtient de meilleurs PnL.\n",
        "\n",
        "2. **Présence d’outliers**  \n",
        "   - Les « moustaches » et points extrêmes sont parfois **moins étendus** pour le LSTM, illustrant moins de scénarios de pertes ou gains extrêmes.  \n",
        "   - Cela rejoint l’idée d’une **meilleure maîtrise des queues** de distribution (les extrêmes) par la stratégie LSTM.\n",
        "\n",
        "---\n",
        "\n",
        "## 3. CVaR 95% (Comparaison des pertes extrêmes)\n",
        "\n",
        "1. **CVaR 95%**  \n",
        "   - Le **Conditional Value at Risk** à 95 % (CVaR) représente la **perte moyenne** dans les 5 % des scénarios les plus défavorables.  \n",
        "   - Sur le graphique, on voit que la barre pour le LSTM est **plus basse** ou du même ordre que celle de Black-Scholes, suggérant que **les pertes extrêmes** sont moins sévères en moyenne pour la stratégie LSTM.  \n",
        "   - Une CVaR plus faible est un **indicateur positif** du point de vue de la gestion du risque, car cela signifie qu’en cas de scénario catastrophique, la **perte moyenne** est moins importante.\n",
        "\n",
        "2. **Gestion du risque**  \n",
        "   - Obtenir une **CVaR plus faible** signifie que le LSTM gère mieux les queues de distribution, ce qui est particulièrement important pour un desk de trading ou un gestionnaire de risques.\n",
        "\n",
        "---\n",
        "\n",
        "## 4. Analyse statistique (Tableau récapitulatif)\n",
        "\n",
        "Le tableau des statistiques récapitulatives (Mean, Median, Std, 5th Percentile, 95th Percentile) permet de confirmer les observations :\n",
        "\n",
        "1. **Moyenne**  \n",
        "   - La moyenne du PnL LSTM est supérieure (moins négative) à celle de Black-Scholes, ce qui **améliore le résultat moyen** de la stratégie.\n",
        "\n",
        "2. **Médiane**  \n",
        "   - La médiane LSTM est également supérieure à celle de Black-Scholes, montrant qu’au moins la moitié des scénarios (50 %) se situent au-dessus d’un niveau de PnL **meilleur** qu’avec la couverture BS.\n",
        "\n",
        "3. **Écart-type**  \n",
        "   - L’écart-type LSTM est plus faible, ce qui confirme la **réduction de la volatilité** du PnL.\n",
        "\n",
        "4. **Percentiles 5 % et 95 %**  \n",
        "   - Le **5e percentile** (perte plus extrême) est **moins négatif** pour le LSTM, indiquant des pires scénarios moins catastrophiques.  \n",
        "   - Le **95e percentile** (scénarios favorables) est un peu plus élevé (moins négatif) ou du même ordre, ce qui montre qu’on ne sacrifie pas trop le potentiel de gain tout en réduisant la queue négative.\n",
        "\n",
        "---\n",
        "\n",
        "## 5. Interprétation globale\n",
        "\n",
        "- **Meilleure stabilité** : Le LSTM affiche une distribution plus resserrée (moins volatile), ce qui se traduit par une diminution de la **variance** du PnL.  \n",
        "- **Pertes extrêmes mieux contrôlées** : La CVaR 95% plus faible indique que, dans les scénarios défavorables, les pertes moyennes sont moins importantes que sous la couverture Black-Scholes.  \n",
        "- **Skewness** : Selon la configuration, on peut observer une **skewness négative** (légèrement) pour le LSTM, signifiant que les gros écarts sont davantage contrôlés à droite, et qu’il y a potentiellement une asymétrie profitable ou un meilleur contrôle des queues.  \n",
        "- **Amélioration du PnL moyen** : Même si la stratégie LSTM vise d’abord la gestion du risque (variance, CVaR), elle parvient également à **améliorer** la moyenne ou la médiane du PnL.\n",
        "\n",
        "En résumé, on peut conclure que :\n",
        "\n",
        "1. Le **LSTM offre un PnL moyen plus élevé** et une **variance réduite** par rapport à la couverture Black-Scholes.  \n",
        "2. Les **pertes extrêmes** (mesurées via la CVaR) sont **mieux maîtrisées**.  \n",
        "3. Les **indicateurs de dispersion** (écart-type, box plot) confirment que le LSTM **stabilise** davantage le résultat final.  \n",
        "\n",
        "Ces observations valident l’intérêt d’utiliser un **modèle de couverture basé sur l’apprentissage** (LSTM), capable de s’adapter de façon non linéaire à l’évolution des prix et de proposer une stratégie plus robuste qu’une simple couverture delta statique Black-Scholes.\n"
      ],
      "metadata": {
        "id": "o4bzXJTv43V3"
      }
    },
    {
      "cell_type": "code",
      "source": [
        "def apply_model_v2(ticker, start_date, maturity_date, option_quantity, strike,\n",
        "                   rebalancing_freq=1,  # On n'a plus besoin de multiples trajectoires, ici 1 suffit\n",
        "                   current_weights=None, cash_account=0,\n",
        "                   trained_model_path=\"trained_model.keras\"):\n",
        "    \"\"\"\n",
        "    Applique le modèle entraîné pour calculer la stratégie de couverture\n",
        "    en utilisant une trajectoire déterministe (sans simulation Monte Carlo).\n",
        "\n",
        "    Les arguments :\n",
        "      - ticker : symbole du sous-jacent\n",
        "      - start_date, maturity_date : dates au format \"mm/jj/aaaa\"\n",
        "      - option_quantity : quantité d'options (nombre)\n",
        "      - strike : strike de l'option (nombre)\n",
        "      - rebalancing_freq : non utilisé ici (on ne génère qu'une trajectoire)\n",
        "      - current_weights : dictionnaire avec delta initial par ticker (par défaut 0.0)\n",
        "      - cash_account : montant de cash initial\n",
        "      - trained_model_path : chemin vers le modèle sauvegardé avec Keras\n",
        "    \"\"\"\n",
        "    if current_weights is None:\n",
        "        current_weights = {ticker: 0.0}\n",
        "\n",
        "    # Chargement du modèle via tf.keras.models.load_model()\n",
        "    try:\n",
        "        model = tf.keras.models.load_model(trained_model_path, custom_objects={'Agent': Agent}, compile=False)\n",
        "    except Exception as e:\n",
        "        return {\"error\": f\"Erreur de chargement: {str(e)}\"}\n",
        "\n",
        "    # Calcul du temps restant en années\n",
        "    maturity_dt = datetime.strptime(maturity_date, \"%m/%d/%Y\").date()\n",
        "    start_dt = datetime.strptime(start_date, \"%m/%d/%Y\").date()\n",
        "    T = (maturity_dt - start_dt).days / 365.0\n",
        "    if T <= 0:\n",
        "        return {\"error\": \"La maturité doit être dans le futur\"}\n",
        "\n",
        "    # Récupération des données marché\n",
        "    try:\n",
        "        stock = yf.Ticker(ticker)\n",
        "        S0 = stock.history(period=\"1d\")['Close'].iloc[-1]\n",
        "        treasury = yf.Ticker(\"^TNX\")\n",
        "        r = treasury.history(period=\"1d\")['Close'].iloc[-1] / 100.0\n",
        "        sigma = 0.3  # Estimation simplifiée\n",
        "    except Exception as e:\n",
        "        return {\"error\": f\"Erreur lors de la récupération des données marché: {str(e)}\"}\n",
        "\n",
        "    # Construction d'une trajectoire déterministe\n",
        "    # Le modèle a été entraîné avec n_timesteps défini par model.time_steps\n",
        "    n_timesteps = model.time_steps\n",
        "    dt = T / (n_timesteps - 1)\n",
        "    # Pour chaque instant t, on suppose S_t = S0 * exp(r * t*dt)\n",
        "    deterministic_path = np.array([S0 * np.exp(r * t * dt) for t in range(n_timesteps)])\n",
        "    # Reshape pour avoir la forme (time_steps, n_sims, 1)\n",
        "    # Ici, on utilise une seule trajectoire (n_sims=1)\n",
        "    paths = deterministic_path.reshape(n_timesteps, 1, 1)\n",
        "\n",
        "    # Mise à jour des paramètres du modèle (le taux et la volatilité)\n",
        "    model.r = r\n",
        "    model.sigma = sigma\n",
        "\n",
        "    # Préparation des inputs initiaux pour le modèle (pour t = 0)\n",
        "    delta_init = tf.constant(np.full((paths.shape[1],), current_weights.get(ticker, 0.0)), dtype=tf.float32)\n",
        "    cash_init = tf.constant(np.full((paths.shape[1],), cash_account), dtype=tf.float32)\n",
        "\n",
        "    # Calcul de la stratégie et du PnL\n",
        "    try:\n",
        "        pnl_tensor, decisions = model.calculate_hedging_pnl(\n",
        "            tf.constant(paths, tf.float32),\n",
        "            tf.constant(strike, tf.float32),\n",
        "            delta_init=delta_init,\n",
        "            cash_init=cash_init\n",
        "        )\n",
        "    except Exception as e:\n",
        "        return {\"error\": f\"Erreur lors du calcul de la stratégie: {str(e)}\"}\n",
        "\n",
        "    pnl = pnl_tensor.numpy()\n",
        "    # Pour l'exemple, on calcule le delta moyen au premier instant multiplié par la quantité d'options\n",
        "    predicted_delta = np.mean(decisions[0].numpy()) * option_quantity\n",
        "    pnl_mean = np.mean(pnl)\n",
        "    cash_final = cash_account\n",
        "\n",
        "    return {\n",
        "        ticker: round(predicted_delta, 2),\n",
        "        \"cash_account\": round(cash_final, 2),\n",
        "        \"details\": {\n",
        "            \"strike\": round(strike, 2),\n",
        "            \"T\": round(T, 4),\n",
        "            \"risk_free_rate\": round(r, 4),\n",
        "            \"volatility\": round(sigma, 4),\n",
        "            \"pnl_mean\": round(pnl_mean, 2),\n",
        "            \"all_predicted_deltas\": decisions.numpy().tolist()\n",
        "        }\n",
        "    }\n",
        "\n",
        "# Exemple d'utilisation de la fonction apply_model_v2\n",
        "if __name__ == \"__main__\":\n",
        "    ticker = \"AAPL\"\n",
        "    today = date.today()\n",
        "    maturity_dt = today + timedelta(days=90)  # maturité dans 90 jours\n",
        "\n",
        "    print(f\"Prédiction de la stratégie de couverture pour {ticker} (trajectoire déterministe)...\")\n",
        "    prediction = apply_model_v2(\n",
        "        ticker=ticker,\n",
        "        start_date=today.strftime(\"%m/%d/%Y\"),\n",
        "        maturity_date=maturity_dt.strftime(\"%m/%d/%Y\"),\n",
        "        option_quantity=100,\n",
        "        strike=100,\n",
        "        rebalancing_freq=1,  # On n'utilise qu'une trajectoire\n",
        "        current_weights={ticker: 50},\n",
        "        cash_account=5000,\n",
        "        trained_model_path=\"trained_model.keras\"\n",
        "    )\n",
        "\n",
        "    if \"error\" in prediction:\n",
        "        print(prediction[\"error\"])\n",
        "    else:\n",
        "        print(\"\\nRésultats de la prédiction:\")\n",
        "        print(f\"Delta optimal pour {ticker} : {prediction[ticker]}\")\n",
        "        print(f\"Cash account : {prediction['cash_account']}\")\n",
        "        print(\"\\nDétails :\")\n",
        "        for key, value in prediction[\"details\"].items():\n",
        "            if key != \"all_predicted_deltas\":\n",
        "                print(f\"{key} : {value}\")\n"
      ],
      "metadata": {
        "id": "UTUUdj485RzP"
      },
      "execution_count": null,
      "outputs": []
    },
    {
      "cell_type": "markdown",
      "source": [
        "# Explication de la fonction `apply_model_v2`\n",
        "\n",
        "Dans le cadre de notre projet, nous avons développé une fonction nommée `apply_model_v2` qui sert de **route** dans notre application. Son rôle est d'appliquer le modèle de couverture que nous avons entraîné afin de calculer la stratégie de couverture optimale pour une option, en utilisant une trajectoire déterministe (sans simulation Monte Carlo).\n",
        "\n",
        "## Description et Objectifs\n",
        "\n",
        "Cette fonction reçoit en entrée plusieurs paramètres essentiels tels que le symbole du sous-jacent, les dates de début et de maturité, la quantité d'options, le strike, ainsi que quelques paramètres financiers comme le cash disponible. Son objectif est de :\n",
        "\n",
        "- **Charger le modèle pré-entraîné** (format Keras),\n",
        "- **Construire une trajectoire déterministe** pour le sous-jacent,\n",
        "- **Calculer la stratégie de couverture** (deltas) et le PnL final,\n",
        "- **Retourner un ensemble d'informations détaillées** (delta optimal, cash account, détails du strike, T, taux sans risque, volatilité, etc.).\n",
        "\n",
        "## Fonctionnement Détaillé\n",
        "\n",
        "Nous allons décrire les étapes principales de la fonction :\n",
        "\n",
        "1. **Initialisation des Paramètres**\n",
        "   - Si `current_weights` n'est pas fourni, nous l'initialisons par défaut avec un delta de 0.0 pour le ticker concerné.\n",
        "   - Le paramètre `rebalancing_freq` n'est pas utilisé ici puisque nous ne générons qu'une seule trajectoire déterministe.\n",
        "\n",
        "2. **Chargement du Modèle**\n",
        "   - Nous utilisons `tf.keras.models.load_model` pour charger notre modèle pré-entraîné depuis le chemin spécifié (`trained_model_path`).\n",
        "   - En cas d'erreur de chargement, nous retournons immédiatement un message d'erreur sous forme de dictionnaire.\n",
        "\n",
        "3. **Calcul du Temps Restant (T)**\n",
        "   - Nous convertissons les dates `start_date` et `maturity_date` au format `\"mm/jj/aaaa\"` en objets `datetime` afin de calculer le temps restant en années (en divisant le nombre de jours par 365).\n",
        "   - Nous vérifions que la maturité est bien dans le futur, sinon nous renvoyons une erreur.\n",
        "\n",
        "4. **Récupération des Données de Marché**\n",
        "   - Nous récupérons le dernier prix de clôture du sous-jacent (`S0`) via Yahoo Finance.\n",
        "   - Nous obtenons également le taux sans risque (`r`) à partir de l'indice \"^TNX\" et fixons une estimation simplifiée de la volatilité (`sigma`).\n",
        "\n",
        "5. **Construction de la Trajectoire Déterministe**\n",
        "   - Le modèle a été entraîné avec un nombre fixe de pas de temps (`n_timesteps`).\n",
        "   - Nous construisons une trajectoire déterministe en supposant que pour chaque instant \\(t\\) :\n",
        "     \\[\n",
        "     S_t = S_0 \\times e^{r \\times t \\times dt}\n",
        "     \\]\n",
        "     où \\( dt = \\frac{T}{n\\_timesteps - 1} \\).\n",
        "   - La trajectoire est ensuite reshaped pour avoir la forme `(n_timesteps, 1, 1)` (une seule trajectoire, car nous n'utilisons pas de simulations multiples).\n",
        "\n",
        "6. **Mise à Jour du Modèle**\n",
        "   - Nous mettons à jour les paramètres du modèle (`r` et `sigma`) avec les valeurs récupérées, afin que le modèle utilise les données de marché actuelles pour ses calculs.\n",
        "\n",
        "7. **Préparation des Entrées Initiales**\n",
        "   - Nous initialisons le delta (`delta_init`) à partir des `current_weights` et le cash (`cash_init`) à partir de `cash_account`.\n",
        "   - Ces valeurs sont ensuite converties en tenseurs TensorFlow pour être utilisées dans la méthode du modèle.\n",
        "\n",
        "8. **Calcul de la Stratégie et du PnL**\n",
        "   - Nous appelons la méthode `calculate_hedging_pnl` du modèle, qui calcule de manière récursive :\n",
        "     - Le PnL final de la stratégie de couverture,\n",
        "     - La série des deltas calculés à chaque instant.\n",
        "   - Nous extrayons ensuite le delta moyen du premier instant, que nous multiplions par la quantité d'options pour obtenir le delta optimal.\n",
        "\n",
        "9. **Retour des Résultats**\n",
        "   - La fonction renvoie un dictionnaire contenant :\n",
        "     - Le delta optimal pour le ticker,\n",
        "     - Le solde final du compte en cash,\n",
        "     - Un sous-dictionnaire de détails (strike, T, taux sans risque, volatilité, PnL moyen, liste de tous les deltas prédits).\n",
        "   - En cas d'erreur à une étape quelconque, un dictionnaire avec une clé `\"error\"` est retourné.\n",
        "\n",
        "## Exemple d'Utilisation\n",
        "\n",
        "À la fin du script, nous montrons un exemple d'appel de la fonction :\n",
        "\n",
        "```python\n",
        "if __name__ == \"__main__\":\n",
        "    ticker = \"AAPL\"\n",
        "    today = date.today()\n",
        "    maturity_dt = today + timedelta(days=90)  # maturité dans 90 jours\n",
        "\n",
        "    print(f\"Prédiction de la stratégie de couverture pour {ticker} (trajectoire déterministe)...\")\n",
        "    prediction = apply_model_v2(\n",
        "        ticker=ticker,\n",
        "        start_date=today.strftime(\"%m/%d/%Y\"),\n",
        "        maturity_date=maturity_dt.strftime(\"%m/%d/%Y\"),\n",
        "        option_quantity=100,\n",
        "        strike=100,\n",
        "        rebalancing_freq=1,  # On n'utilise qu'une trajectoire\n",
        "        current_weights={ticker: 50},\n",
        "        cash_account=5000,\n",
        "        trained_model_path=\"trained_model.keras\"\n",
        "    )\n",
        "\n",
        "    if \"error\" in prediction:\n",
        "        print(prediction[\"error\"])\n",
        "    else:\n",
        "        print(\"\\nRésultats de la prédiction:\")\n",
        "        print(f\"Delta optimal pour {ticker} : {prediction[ticker]}\")\n",
        "        print(f\"Cash account : {prediction['cash_account']}\")\n",
        "        print(\"\\nDétails :\")\n",
        "        for key, value in prediction[\"details\"].items():\n",
        "            if key != \"all_predicted_deltas\":\n",
        "                print(f\"{key} : {value}\")\n"
      ],
      "metadata": {
        "id": "nflZCfta5S-I"
      }
    }
  ]
}